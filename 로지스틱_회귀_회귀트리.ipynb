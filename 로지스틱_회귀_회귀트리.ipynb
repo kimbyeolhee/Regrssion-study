{
  "nbformat": 4,
  "nbformat_minor": 0,
  "metadata": {
    "colab": {
      "name": "로지스틱 회귀_회귀트리.ipynb",
      "provenance": [],
      "authorship_tag": "ABX9TyOym+f3QOTVE2/04Uqxp3GZ",
      "include_colab_link": true
    },
    "kernelspec": {
      "name": "python3",
      "display_name": "Python 3"
    }
  },
  "cells": [
    {
      "cell_type": "markdown",
      "metadata": {
        "id": "view-in-github",
        "colab_type": "text"
      },
      "source": [
        "<a href=\"https://colab.research.google.com/github/kimbyeolhee/Regrssion-study/blob/main/%EB%A1%9C%EC%A7%80%EC%8A%A4%ED%8B%B1_%ED%9A%8C%EA%B7%80_%ED%9A%8C%EA%B7%80%ED%8A%B8%EB%A6%AC.ipynb\" target=\"_parent\"><img src=\"https://colab.research.google.com/assets/colab-badge.svg\" alt=\"Open In Colab\"/></a>"
      ]
    },
    {
      "cell_type": "markdown",
      "metadata": {
        "id": "ZFgAUw4o1CzC"
      },
      "source": [
        "# 로지스틱 회귀"
      ]
    },
    {
      "cell_type": "code",
      "metadata": {
        "id": "GshbULyfvBeI"
      },
      "source": [
        "import pandas as pd\n",
        "import matplotlib.pyplot as plt\n",
        "%matplotlib inline\n",
        "\n",
        "from sklearn.datasets import load_breast_cancer\n",
        "from sklearn.linear_model import LogisticRegression\n",
        "\n",
        "cancer = load_breast_cancer()"
      ],
      "execution_count": 1,
      "outputs": []
    },
    {
      "cell_type": "code",
      "metadata": {
        "id": "KYjk8l4rx4Ui"
      },
      "source": [
        "from sklearn.preprocessing import StandardScaler #평균0,분산1인 데이터 분포로 변환\n",
        "from sklearn.model_selection import train_test_split\n",
        "\n",
        "scaler = StandardScaler()\n",
        "data_scaled = scaler.fit_transform(cancer.data)\n",
        "\n",
        "X_train, X_test, y_train, y_test = train_test_split(data_scaled, cancer.target, test_size=0.3, random_state=0)"
      ],
      "execution_count": 2,
      "outputs": []
    },
    {
      "cell_type": "code",
      "metadata": {
        "id": "-5Yj7pBhyVtK",
        "outputId": "9141b063-74b8-44bb-f0de-d53cbbfbb81b",
        "colab": {
          "base_uri": "https://localhost:8080/"
        }
      },
      "source": [
        "from sklearn.metrics import accuracy_score, roc_auc_score\n",
        "\n",
        "# 학습, 예측\n",
        "lr_clf = LogisticRegression()\n",
        "lr_clf.fit(X_train, y_train)\n",
        "lr_preds = lr_clf.predict(X_test)\n",
        "\n",
        "print('accuracy: {:0.3f}'.format(accuracy_score(y_test, lr_preds)))\n",
        "print('roc_auc: {:0.3f}'.format(roc_auc_score(y_test, lr_preds)))"
      ],
      "execution_count": 3,
      "outputs": [
        {
          "output_type": "stream",
          "text": [
            "accuracy: 0.977\n",
            "roc_auc: 0.972\n"
          ],
          "name": "stdout"
        }
      ]
    },
    {
      "cell_type": "code",
      "metadata": {
        "id": "XaaAa5Isy_gq",
        "outputId": "e0178e49-5247-42ff-d4f2-2c6c68246433",
        "colab": {
          "base_uri": "https://localhost:8080/"
        }
      },
      "source": [
        "from sklearn.model_selection import GridSearchCV\n",
        "\n",
        "params = {'penalty':['l2','l1'],\n",
        "          'C':[0.01,0.1,1,5,10]}\n",
        "grid_clf = GridSearchCV(lr_clf, param_grid=params, scoring='accuracy',cv=3)\n",
        "grid_clf.fit(data_scaled, cancer.target)\n",
        "print('최적 하이퍼 파라미터:{0}, 최적 평균 정확도:{1:.3f}'.format(grid_clf.best_params_,\n",
        "                                                  grid_clf.best_score_))"
      ],
      "execution_count": 6,
      "outputs": [
        {
          "output_type": "stream",
          "text": [
            "최적 하이퍼 파라미터:{'C': 1, 'penalty': 'l2'}, 최적 평균 정확도:0.975\n"
          ],
          "name": "stdout"
        },
        {
          "output_type": "stream",
          "text": [
            "/usr/local/lib/python3.6/dist-packages/sklearn/model_selection/_validation.py:536: FitFailedWarning: Estimator fit failed. The score on this train-test partition for these parameters will be set to nan. Details: \n",
            "ValueError: Solver lbfgs supports only 'l2' or 'none' penalties, got l1 penalty.\n",
            "\n",
            "  FitFailedWarning)\n",
            "/usr/local/lib/python3.6/dist-packages/sklearn/model_selection/_validation.py:536: FitFailedWarning: Estimator fit failed. The score on this train-test partition for these parameters will be set to nan. Details: \n",
            "ValueError: Solver lbfgs supports only 'l2' or 'none' penalties, got l1 penalty.\n",
            "\n",
            "  FitFailedWarning)\n",
            "/usr/local/lib/python3.6/dist-packages/sklearn/model_selection/_validation.py:536: FitFailedWarning: Estimator fit failed. The score on this train-test partition for these parameters will be set to nan. Details: \n",
            "ValueError: Solver lbfgs supports only 'l2' or 'none' penalties, got l1 penalty.\n",
            "\n",
            "  FitFailedWarning)\n",
            "/usr/local/lib/python3.6/dist-packages/sklearn/model_selection/_validation.py:536: FitFailedWarning: Estimator fit failed. The score on this train-test partition for these parameters will be set to nan. Details: \n",
            "ValueError: Solver lbfgs supports only 'l2' or 'none' penalties, got l1 penalty.\n",
            "\n",
            "  FitFailedWarning)\n",
            "/usr/local/lib/python3.6/dist-packages/sklearn/model_selection/_validation.py:536: FitFailedWarning: Estimator fit failed. The score on this train-test partition for these parameters will be set to nan. Details: \n",
            "ValueError: Solver lbfgs supports only 'l2' or 'none' penalties, got l1 penalty.\n",
            "\n",
            "  FitFailedWarning)\n"
          ],
          "name": "stderr"
        }
      ]
    },
    {
      "cell_type": "markdown",
      "metadata": {
        "id": "g3oaVB9f1Fn7"
      },
      "source": [
        "# 회귀 트리"
      ]
    },
    {
      "cell_type": "code",
      "metadata": {
        "id": "-2ZiwGea0Q_e",
        "outputId": "310f6081-8fb5-4abf-8f6c-bd60d7d1ddb2",
        "colab": {
          "base_uri": "https://localhost:8080/"
        }
      },
      "source": [
        "from sklearn.datasets import load_boston\n",
        "from sklearn.model_selection import cross_val_score\n",
        "from sklearn.ensemble import RandomForestRegressor\n",
        "import pandas as pd\n",
        "import numpy as np\n",
        "\n",
        "boston = load_boston()\n",
        "bostonDF = pd.DataFrame(boston.data, columns=boston.feature_names)\n",
        "\n",
        "bostonDF['PRICE'] = boston.target\n",
        "y_target = bostonDF['PRICE']\n",
        "X_data = bostonDF.drop(['PRICE'],axis=1,inplace=False)\n",
        "\n",
        "rf = RandomForestRegressor(random_state=0 , n_estimators=1000)\n",
        "neg_mse_scores = cross_val_score(rf,X_data,y_target,scoring='neg_mean_squared_error',cv=5)\n",
        "rmse_scores = np.sqrt(-1 * neg_mse_scores)\n",
        "avg_rmse = np.mean(rmse_scores)\n",
        "\n",
        "print(\"5 folds의 개별 Negative MSE scores:\", np.round(neg_mse_scores,2))\n",
        "print(\"5 folds의 개별 RMSE scores:\", np.round(rmse_scores,2))\n",
        "print(\"5 folds의 평균 RMSE scores:\", np.round(avg_rmse,2))"
      ],
      "execution_count": 8,
      "outputs": [
        {
          "output_type": "stream",
          "text": [
            "5 folds의 개별 Negative MSE scores: [ -7.93 -13.06 -20.53 -46.31 -18.8 ]\n",
            "5 folds의 개별 RMSE scores: [2.82 3.61 4.53 6.8  4.34]\n",
            "5 folds의 평균 RMSE scores: 4.42\n"
          ],
          "name": "stdout"
        }
      ]
    },
    {
      "cell_type": "markdown",
      "metadata": {
        "id": "cBDVRhAU-vPm"
      },
      "source": [
        "## 여러 회귀 트리 클래스를 사용하여 예측"
      ]
    },
    {
      "cell_type": "code",
      "metadata": {
        "id": "uf5ezNi6_vLD"
      },
      "source": [
        "def get_model_cv_prediction(model,X_data,y_target):\n",
        "  neg_mse_scores = cross_val_score(model,X_data,y_target, scoring=\"neg_mean_squared_error\",cv=5)\n",
        "  rmse_scores = np.sqrt(-1 * neg_mse_scores)\n",
        "  avg_rmse = np.mean(rmse_scores)\n",
        "  print(model.__class__.__name__)\n",
        "  print('5 교차 검증 평균 RMSE:',round(avg_rmse,3))"
      ],
      "execution_count": 11,
      "outputs": []
    },
    {
      "cell_type": "code",
      "metadata": {
        "id": "Cn1LkBt--WNk",
        "outputId": "305b6eec-13dc-45f0-b191-cd2f386b66ce",
        "colab": {
          "base_uri": "https://localhost:8080/"
        }
      },
      "source": [
        "from sklearn.tree import DecisionTreeRegressor\n",
        "from sklearn.ensemble import GradientBoostingRegressor\n",
        "from xgboost import XGBRegressor\n",
        "from lightgbm import LGBMRegressor\n",
        "\n",
        "dt_reg = DecisionTreeRegressor(random_state=0, max_depth=4)\n",
        "rf_reg = RandomForestRegressor(random_state=0, n_estimators=1000)\n",
        "gb_reg = GradientBoostingRegressor(random_state=0, n_estimators=1000)\n",
        "xgb_reg = XGBRegressor(n_estimators=1000)\n",
        "lgb_reg = LGBMRegressor(n_estimators=1000)\n",
        "\n",
        "models = [dt_reg, rf_reg, gb_reg, xgb_reg, lgb_reg]\n",
        "\n",
        "for model in models:\n",
        "  get_model_cv_prediction(model, X_data, y_target)"
      ],
      "execution_count": 12,
      "outputs": [
        {
          "output_type": "stream",
          "text": [
            "DecisionTreeRegressor\n",
            "5 교차 검증 평균 RMSE: 5.978\n",
            "RandomForestRegressor\n",
            "5 교차 검증 평균 RMSE: 4.42\n",
            "GradientBoostingRegressor\n",
            "5 교차 검증 평균 RMSE: 4.269\n",
            "[08:38:56] WARNING: /workspace/src/objective/regression_obj.cu:152: reg:linear is now deprecated in favor of reg:squarederror.\n",
            "[08:38:56] WARNING: /workspace/src/objective/regression_obj.cu:152: reg:linear is now deprecated in favor of reg:squarederror.\n",
            "[08:38:57] WARNING: /workspace/src/objective/regression_obj.cu:152: reg:linear is now deprecated in favor of reg:squarederror.\n",
            "[08:38:57] WARNING: /workspace/src/objective/regression_obj.cu:152: reg:linear is now deprecated in favor of reg:squarederror.\n",
            "[08:38:57] WARNING: /workspace/src/objective/regression_obj.cu:152: reg:linear is now deprecated in favor of reg:squarederror.\n",
            "XGBRegressor\n",
            "5 교차 검증 평균 RMSE: 4.089\n",
            "LGBMRegressor\n",
            "5 교차 검증 평균 RMSE: 4.646\n"
          ],
          "name": "stdout"
        }
      ]
    },
    {
      "cell_type": "markdown",
      "metadata": {
        "id": "ckYr8vtFBNZT"
      },
      "source": [
        "회귀 트리는 선형 회귀의 회귀 계수가 아닌 , featur 중요도로 상대적 중요도를 알 수 있다."
      ]
    },
    {
      "cell_type": "code",
      "metadata": {
        "id": "jhcs993B_olT",
        "outputId": "2d0a8117-f0c8-49ec-96d8-2c6ed9d5c59d",
        "colab": {
          "base_uri": "https://localhost:8080/",
          "height": 283
        }
      },
      "source": [
        "import seaborn as sns\n",
        "%matplotlib inline\n",
        "\n",
        "rf= RandomForestRegressor(n_estimators=1000)\n",
        "\n",
        "rf_reg.fit(X_data, y_target)\n",
        "\n",
        "feature_series = pd.Series(data=rf_reg.feature_importances_, index=X_data.columns)\n",
        "feature_series = feature_series.sort_values(ascending=False) #정렬\n",
        "sns.barplot(x=feature_series, y=feature_series.index)\n"
      ],
      "execution_count": 15,
      "outputs": [
        {
          "output_type": "execute_result",
          "data": {
            "text/plain": [
              "<matplotlib.axes._subplots.AxesSubplot at 0x7f41090c1860>"
            ]
          },
          "metadata": {
            "tags": []
          },
          "execution_count": 15
        },
        {
          "output_type": "display_data",
          "data": {
            "image/png": "[encoded data removed]",
            "text/plain": [
              "<Figure size 432x288 with 1 Axes>"
            ]
          },
          "metadata": {
            "tags": [],
            "needs_background": "light"
          }
        }
      ]
    },
    {
      "cell_type": "markdown",
      "metadata": {
        "id": "ydFJYqvsC_GR"
      },
      "source": [
        "오버피팅을 시각화 하기 위해 한개의 feature 'RM'과 target값 PRICE 기반으로 회귀 예측 수행"
      ]
    },
    {
      "cell_type": "code",
      "metadata": {
        "id": "5DQxBVHmBxIm",
        "outputId": "f1a7e992-327d-4360-f7fe-fe649318555a",
        "colab": {
          "base_uri": "https://localhost:8080/",
          "height": 301
        }
      },
      "source": [
        "import matplotlib.pyplot as pyplot\n",
        "%matplotlib inline\n",
        "\n",
        "bostonDF_sample =bostonDF[['RM','PRICE']]\n",
        "bostonDF_sample = bostonDF_sample.sample(n=100,random_state=0)\n",
        "print(bostonDF_sample.shape)\n",
        "plt.figure()\n",
        "plt.scatter(bostonDF_sample.RM, bostonDF_sample.PRICE, c='darkorange')"
      ],
      "execution_count": 17,
      "outputs": [
        {
          "output_type": "stream",
          "text": [
            "(100, 2)\n"
          ],
          "name": "stdout"
        },
        {
          "output_type": "execute_result",
          "data": {
            "text/plain": [
              "<matplotlib.collections.PathCollection at 0x7f4108cbea20>"
            ]
          },
          "metadata": {
            "tags": []
          },
          "execution_count": 17
        },
        {
          "output_type": "display_data",
          "data": {
            "image/png": "[encoded data removed]",
            "text/plain": [
              "<Figure size 432x288 with 1 Axes>"
            ]
          },
          "metadata": {
            "tags": [],
            "needs_background": "light"
          }
        }
      ]
    },
    {
      "cell_type": "code",
      "metadata": {
        "id": "SW_VbHHIDnlp"
      },
      "source": [
        "import numpy as np"
      ],
      "execution_count": 18,
      "outputs": []
    },
    {
      "cell_type": "code",
      "metadata": {
        "id": "1zi9bHqVDqZt"
      },
      "source": [
        "import numpy as np\n",
        "from sklearn.linear_model import LinearRegression\n",
        "\n",
        "lr_reg = LinearRegression()\n",
        "rf_reg2 = DecisionTreeRegressor(max_depth=2)\n",
        "rf_reg7 = DecisionTreeRegressor(max_depth=7)\n",
        "\n",
        "# 예측을 적용할 test 데이터 셋 생성\n",
        "X_test = np.arange(4.5,8.5,0.04).reshape(-1,1)\n",
        "\n",
        "# 시각화 위해 feature은 RM, target은 PRICE\n",
        "X_feature = bostonDF_sample['RM'].values.reshape(-1,1)\n",
        "y_target = bostonDF_sample['PRICE'].values.reshape(-1,1)\n",
        "\n",
        "# 학습과 예측 수행\n",
        "lr_reg.fit(X_feature, y_target)\n",
        "rf_reg2.fit(X_feature, y_target)\n",
        "rf_reg7.fit(X_feature, y_target)\n",
        "\n",
        "pred_lr = lr_reg.predict(X_test)\n",
        "pred_rf2 = rf_reg2.predict(X_test)\n",
        "pred_rf7 = rf_reg7.predict(X_test)"
      ],
      "execution_count": 20,
      "outputs": []
    },
    {
      "cell_type": "code",
      "metadata": {
        "id": "NHEhj08RF-oB",
        "outputId": "2fca165d-da7f-4845-bb53-408be6f49e80",
        "colab": {
          "base_uri": "https://localhost:8080/",
          "height": 334
        }
      },
      "source": [
        "fig , (ax1,ax2,ax3) = plt.subplots(figsize=(12,5),ncols=3)\n",
        "\n",
        "# 선형 회귀로 학습된 모델 회귀 예측선\n",
        "ax1.set_title('Linear Regression')\n",
        "ax1.scatter(bostonDF_sample.RM, bostonDF_sample.PRICE, c=\"darkorange\")\n",
        "ax1.plot(X_test, pred_lr, label=\"linear\", linewidth=2)\n",
        "\n",
        "# DecisionTreerRegressor , max_depth=2\n",
        "ax2.set_title('DecisionTreerRegressor , max_depth=2')\n",
        "ax2.scatter(bostonDF_sample.RM, bostonDF_sample.PRICE, c=\"darkorange\")\n",
        "ax2.plot(X_test, pred_rf2, label=\"max_depth:3\", linewidth=2)\n",
        "\n",
        "# DecisionTreerRegressor , max_depth=7\n",
        "ax3.set_title('DecisionTreerRegressor , max_depth=7')\n",
        "ax3.scatter(bostonDF_sample.RM, bostonDF_sample.PRICE, c=\"darkorange\")\n",
        "ax3.plot(X_test, pred_rf7, label=\"max_depth:7\", linewidth=2)\n"
      ],
      "execution_count": 25,
      "outputs": [
        {
          "output_type": "execute_result",
          "data": {
            "text/plain": [
              "[<matplotlib.lines.Line2D at 0x7f4108994278>]"
            ]
          },
          "metadata": {
            "tags": []
          },
          "execution_count": 25
        },
        {
          "output_type": "display_data",
          "data": {
            "image/png": "[encoded data removed]",
            "text/plain": [
              "<Figure size 864x360 with 3 Axes>"
            ]
          },
          "metadata": {
            "tags": [],
            "needs_background": "light"
          }
        }
      ]
    },
    {
      "cell_type": "code",
      "metadata": {
        "id": "KLTCkco_GsyC"
      },
      "source": [
        ""
      ],
      "execution_count": null,
      "outputs": []
    }
  ]
}