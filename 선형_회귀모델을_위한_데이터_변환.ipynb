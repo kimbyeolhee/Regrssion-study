{
  "nbformat": 4,
  "nbformat_minor": 0,
  "metadata": {
    "colab": {
      "name": "선형 회귀모델을 위한 데이터 변환.ipynb",
      "provenance": [],
      "authorship_tag": "ABX9TyNKLqAc89T3HxndfWaDznEk",
      "include_colab_link": true
    },
    "kernelspec": {
      "name": "python3",
      "display_name": "Python 3"
    }
  },
  "cells": [
    {
      "cell_type": "markdown",
      "metadata": {
        "id": "view-in-github",
        "colab_type": "text"
      },
      "source": [
        "<a href=\"https://colab.research.google.com/github/kimbyeolhee/Regrssion-study/blob/main/%EC%84%A0%ED%98%95_%ED%9A%8C%EA%B7%80%EB%AA%A8%EB%8D%B8%EC%9D%84_%EC%9C%84%ED%95%9C_%EB%8D%B0%EC%9D%B4%ED%84%B0_%EB%B3%80%ED%99%98.ipynb\" target=\"_parent\"><img src=\"https://colab.research.google.com/assets/colab-badge.svg\" alt=\"Open In Colab\"/></a>"
      ]
    },
    {
      "cell_type": "markdown",
      "metadata": {
        "id": "syv9N3I-mOYV"
      },
      "source": [
        "* Target : 반드시 정규분포를 가져야함. 이를 위해 주로 **로그변환**을 적용\n",
        "* Feature : \n",
        "* 1. StandardScaler 클래스를 통해 평균이 0, 분산이 1인 표준 정규분포를 가진 데이터 세트로 변환하거나 MinMaxScaler 클래스를 이용해 최솟값이 0이고 최댓값이 1인 정규화를 수행\n",
        "* 2. 스케일링/정규화를 수행한 데이터 세트에 다시 다항 특성을 적용하는 방법. 보통 1번 방법을 통해 예측 성능에 향상이 없을 경우 이와같은 방법 적용 (다항 변환으로 생성되는 피쳐의 개수가 기하급수적으로 늘어나서 과적합 이슈발생)\n",
        "* 3. 원래 값에 **log**를 적용하면 보다 정규분포에 가까운 형태로 값이 분포 (제일 많이 사용되는 방법)\n"
      ]
    },
    {
      "cell_type": "markdown",
      "metadata": {
        "id": "_6euxKw9ncKh"
      },
      "source": [
        "* 선형 회귀의 데이터 인코딩 : 주로 원-핫 인코딩 (0001, 0010, 0100) \n",
        "* (1,2,3 이렇게 아니고 값 자체의 상관도를 없애기 위해서)"
      ]
    },
    {
      "cell_type": "code",
      "metadata": {
        "id": "lJW-fp1WmFsw",
        "outputId": "48863b4a-b82b-4ba5-fa45-08054fb93cde",
        "colab": {
          "base_uri": "https://localhost:8080/",
          "height": 321
        }
      },
      "source": [
        "import numpy as np\n",
        "import matplotlib.pyplot as plt\n",
        "import pandas as pd\n",
        "import seaborn as sns\n",
        "from scipy import stats\n",
        "from sklearn.datasets import load_boston\n",
        "%matplotlib inline\n",
        "\n",
        "boston = load_boston()\n",
        "bostonDF= pd.DataFrame(boston.data, columns = boston.feature_names)\n",
        "bostonDF['PRICE'] = boston.target\n",
        "\n",
        "from sklearn.model_selection import train_test_split\n",
        "from sklearn.linear_model import LinearRegression\n",
        "from sklearn.metrics import mean_squared_error, r2_score\n",
        "\n",
        "y_target = bostonDF['PRICE']\n",
        "X_data = bostonDF.drop(['PRICE'],axis=1,inplace=False)\n",
        "\n",
        "X_train, X_test, y_train, y_test = train_test_split(X_data,y_target, test_size=0.3, random_state=156)\n",
        "\n",
        "plt.hist(y_target, bins=10)"
      ],
      "execution_count": 1,
      "outputs": [
        {
          "output_type": "execute_result",
          "data": {
            "text/plain": [
              "(array([ 21.,  55.,  82., 154.,  84.,  41.,  30.,   8.,  10.,  21.]),\n",
              " array([ 5. ,  9.5, 14. , 18.5, 23. , 27.5, 32. , 36.5, 41. , 45.5, 50. ]),\n",
              " <a list of 10 Patch objects>)"
            ]
          },
          "metadata": {
            "tags": []
          },
          "execution_count": 1
        },
        {
          "output_type": "display_data",
          "data": {
            "image/png": "[encoded data removed]",
            "text/plain": [
              "<Figure size 432x288 with 1 Axes>"
            ]
          },
          "metadata": {
            "tags": [],
            "needs_background": "light"
          }
        }
      ]
    },
    {
      "cell_type": "markdown",
      "metadata": {
        "id": "fNdDLYWaqZTI"
      },
      "source": [
        "target 값은 정규분포 모양"
      ]
    },
    {
      "cell_type": "code",
      "metadata": {
        "id": "i6WSKT7jp23R"
      },
      "source": [
        "## 데이터 변환 함수\n",
        "from sklearn.preprocessing import StandardScaler, MinMaxScaler, PolynomialFeatures\n",
        "\n",
        "# p_degree는 다항식 특성을 추가할 때 적용, 2 이상 부여하지 않음\n",
        "def get_scaled_data(method='None', p_degree=None, input_data=None) :\n",
        "  if method == 'Standard':\n",
        "    scaled_data = StandardScaler().fit_transform(input_data)\n",
        "  elif method == 'MinMax' :\n",
        "    scaled_data = MinMaxScaler().fit_transform(input_data)\n",
        "  elif method == 'Log':\n",
        "    scaled_data = np.log1p(input_data)\n",
        "  else:\n",
        "    scaled_data = input_data\n",
        "  \n",
        "  if p_degree != None:\n",
        "    scaled_data = PolynomialFeatures(degree=p_degree,\n",
        "                                     include_bias=False).fit_transform(input_data)\n",
        "                                \n",
        "  return scaled_data"
      ],
      "execution_count": 2,
      "outputs": []
    },
    {
      "cell_type": "code",
      "metadata": {
        "id": "Km_hF4MotZMv"
      },
      "source": [
        "## 규제 선형회귀 모델 함수\n",
        "from sklearn.linear_model import Lasso, ElasticNet,Ridge\n",
        "from sklearn.model_selection import cross_val_score\n",
        "\n",
        "def get_linear_reg_eval(model_name, params=None, X_data_n=None, y_target_n=None, verbose=True):\n",
        "  coeff_df = pd.DataFrame()\n",
        "  if verbose : print('######', model_name , '######')\n",
        "  for param in params:\n",
        "    if model_name =='Ridge' : model = Ridge(alpha=param)\n",
        "    elif model_name == 'Lasso': model = Lasso(alpha=param)\n",
        "    elif model_name == 'ElasticNet': model = ElasticNet(alpha=param, l1_ratio=0.7)\n",
        "    neg_mse_scores = cross_val_score(model, X_data_n, y_target_n, scoring=\"neg_mean_squared_error\", cv=5)\n",
        "\n",
        "    avg_rmse = np.mean(np.sqrt(-1 * neg_mse_scores))\n",
        "    print('alpha {0}일 때 5 fold의 평균 RMSE : {1: .3f}'.format(param,avg_rmse))\n",
        "\n",
        "    model.fit(X_data,y_target)\n",
        "\n",
        "    coeff = pd.Series(data=model.coef_ , index=X_data.columns)\n",
        "    colname = 'alpha'+str(param)\n",
        "    coeff_df[colname] = coeff\n",
        "  return coeff_df"
      ],
      "execution_count": 3,
      "outputs": []
    },
    {
      "cell_type": "code",
      "metadata": {
        "id": "gOM2sIC6r84c",
        "outputId": "32ac3669-89e5-42ce-b2a0-57fb20e6c16e",
        "colab": {
          "base_uri": "https://localhost:8080/"
        }
      },
      "source": [
        "# Ridge의 alpha값을 다르게 적용한 RMSE값 추출\n",
        "alphas = [0.1,1,10,100]\n",
        "\n",
        "scale_methods = [(None,None),('Standard',None),('Standard',2),\n",
        "                 ('MinMax',None),('MinMax',2),('Log',None)]\n",
        "                \n",
        "for scale_method in scale_methods:\n",
        "  X_data_scaled = get_scaled_data(method=scale_method[0], p_degree=scale_method[1],\n",
        "                                  input_data=X_data)\n",
        "  print('\\n 변환유형: {0}, Polynomial degree:{1}'.format(scale_method[0],scale_method[1]))\n",
        "  get_linear_reg_eval('Ridge', params=alphas, X_data_n = X_data_scaled,\n",
        "                      y_target_n=y_target, verbose=False)"
      ],
      "execution_count": 4,
      "outputs": [
        {
          "output_type": "stream",
          "text": [
            "\n",
            " 변환유형: None, Polynomial degree:None\n",
            "alpha 0.1일 때 5 fold의 평균 RMSE :  5.788\n",
            "alpha 1일 때 5 fold의 평균 RMSE :  5.653\n",
            "alpha 10일 때 5 fold의 평균 RMSE :  5.518\n",
            "alpha 100일 때 5 fold의 평균 RMSE :  5.330\n",
            "\n",
            " 변환유형: Standard, Polynomial degree:None\n",
            "alpha 0.1일 때 5 fold의 평균 RMSE :  5.826\n",
            "alpha 1일 때 5 fold의 평균 RMSE :  5.803\n",
            "alpha 10일 때 5 fold의 평균 RMSE :  5.637\n",
            "alpha 100일 때 5 fold의 평균 RMSE :  5.421\n",
            "\n",
            " 변환유형: Standard, Polynomial degree:2\n",
            "alpha 0.1일 때 5 fold의 평균 RMSE :  9.141\n",
            "alpha 1일 때 5 fold의 평균 RMSE :  8.938\n",
            "alpha 10일 때 5 fold의 평균 RMSE :  10.556\n",
            "alpha 100일 때 5 fold의 평균 RMSE :  10.566\n",
            "\n",
            " 변환유형: MinMax, Polynomial degree:None\n",
            "alpha 0.1일 때 5 fold의 평균 RMSE :  5.764\n",
            "alpha 1일 때 5 fold의 평균 RMSE :  5.465\n",
            "alpha 10일 때 5 fold의 평균 RMSE :  5.754\n",
            "alpha 100일 때 5 fold의 평균 RMSE :  7.635\n",
            "\n",
            " 변환유형: MinMax, Polynomial degree:2\n",
            "alpha 0.1일 때 5 fold의 평균 RMSE :  9.141\n",
            "alpha 1일 때 5 fold의 평균 RMSE :  8.938\n",
            "alpha 10일 때 5 fold의 평균 RMSE :  10.556\n",
            "alpha 100일 때 5 fold의 평균 RMSE :  10.566\n",
            "\n",
            " 변환유형: Log, Polynomial degree:None\n",
            "alpha 0.1일 때 5 fold의 평균 RMSE :  4.770\n",
            "alpha 1일 때 5 fold의 평균 RMSE :  4.676\n",
            "alpha 10일 때 5 fold의 평균 RMSE :  4.836\n",
            "alpha 100일 때 5 fold의 평균 RMSE :  6.241\n"
          ],
          "name": "stdout"
        }
      ]
    },
    {
      "cell_type": "code",
      "metadata": {
        "id": "pVg5_waity3S"
      },
      "source": [
        ""
      ],
      "execution_count": null,
      "outputs": []
    }
  ]
}